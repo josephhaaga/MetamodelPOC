{
 "cells": [
  {
   "cell_type": "markdown",
   "metadata": {},
   "source": [
    "To run the examples in this repo, configure your UNIX system as follows:"
   ]
  },
  {
   "cell_type": "markdown",
   "metadata": {},
   "source": [
    "## 1. Ensure Spark and GraphFrames are installed\n",
    "\n",
    "Spark should be in `/usr/local/opt/apache-spark`\n",
    "\n",
    "GraphFrames should be in `/Users/josephhaaga/.ivy2/cache/graphframes` or equivalent\n",
    "\n"
   ]
  },
  {
   "cell_type": "markdown",
   "metadata": {},
   "source": [
    "## 2. Update shell profile\n",
    "If you're using bash, the following to `~/.bashrc`:\n",
    "\n",
    "```\n",
    "export PYSPARK_DRIVER_PYTHON=jupyter\n",
    "export PYSPARK_DRIVER_PYTHON_OPTS=notebook\n",
    "export SPARK_OPTS=\"--packages graphframes:graphframes:0.6.0-spark2.3-2_2.11\"\n",
    "```\n",
    "\n",
    "If you do not have an alias set up for `jupyter` *PYSPARK_DRIVER_PYTHON* should be your path to Jupyter (e.g. mine is `/anaconda3/bin/jupyter`)\n",
    "\n",
    "Save the file and run `source ~/.bashrc` to load the new environment variables\n"
   ]
  },
  {
   "cell_type": "markdown",
   "metadata": {},
   "source": [
    "## 3. Launch Jupyter Notebook with Spark backend\n",
    "\n",
    "Run `pyspark --packages graphframes:graphframes:0.6.0-spark2.3-s_2.11`"
   ]
  }
 ],
 "metadata": {
  "kernelspec": {
   "display_name": "Python 3",
   "language": "python",
   "name": "python3"
  },
  "language_info": {
   "codemirror_mode": {
    "name": "ipython",
    "version": 3
   },
   "file_extension": ".py",
   "mimetype": "text/x-python",
   "name": "python",
   "nbconvert_exporter": "python",
   "pygments_lexer": "ipython3",
   "version": "3.6.3"
  }
 },
 "nbformat": 4,
 "nbformat_minor": 2
}
