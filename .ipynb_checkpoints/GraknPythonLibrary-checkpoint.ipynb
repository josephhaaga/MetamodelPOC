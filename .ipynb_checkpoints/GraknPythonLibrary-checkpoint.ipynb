{
 "cells": [
  {
   "cell_type": "code",
   "execution_count": 1,
   "metadata": {
    "collapsed": true
   },
   "outputs": [],
   "source": [
    "import grakn"
   ]
  },
  {
   "cell_type": "code",
   "execution_count": 14,
   "metadata": {},
   "outputs": [],
   "source": [
    "client = grakn.Grakn(uri=\"localhost:48555\")\n",
    "with client.session(keyspace=\"grakn\") as session:\n",
    "    with session.transaction(grakn.TxType.READ) as tx:\n",
    "        # Perform a query that returns an iterator of ConceptMap answers\n",
    "        answer_iterator = tx.query(\"match $x sub thing; limit 10; get;\")\n",
    "        # Request first response\n",
    "        a_concept_map_answer = next(answer_iterator)\n",
    "        # Get the dictionary of variables : concepts, retrieve variable 'x'\n",
    "        thing = a_concept_map_answer.map()['x']\n",
    "\n",
    "        # we can also iterate using a `for` loop\n",
    "        some_things = []\n",
    "        for concept_map in answer_iterator:\n",
    "            # Get 'x' again, without going through .map()\n",
    "            some_things.append(concept_map.get('x'))\n",
    "            break\n",
    "\n",
    "        # skip the iteration and .get('x') and extract all the concepts in one go\n",
    "        remaining_things = answer_iterator.collect_concepts()"
   ]
  },
  {
   "cell_type": "code",
   "execution_count": 16,
   "metadata": {},
   "outputs": [
    {
     "data": {
      "text/plain": [
       "'V4248'"
      ]
     },
     "execution_count": 16,
     "metadata": {},
     "output_type": "execute_result"
    }
   ],
   "source": [
    "person.id"
   ]
  },
  {
   "cell_type": "code",
   "execution_count": 18,
   "metadata": {},
   "outputs": [
    {
     "data": {
      "text/plain": [
       "[<grakn.service.Session.Concept.Concept.EntityType at 0x10ac6fef0>,\n",
       " <grakn.service.Session.Concept.Concept.AttributeType at 0x10ae15470>,\n",
       " <grakn.service.Session.Concept.Concept.RelationshipType at 0x10ae15550>,\n",
       " <grakn.service.Session.Concept.Concept.RelationshipType at 0x10ae154a8>,\n",
       " <grakn.service.Session.Concept.Concept.RelationshipType at 0x10ae06400>,\n",
       " <grakn.service.Session.Concept.Concept.EntityType at 0x10ae06198>,\n",
       " <grakn.service.Session.Concept.Concept.EntityType at 0x10ae060f0>,\n",
       " <grakn.service.Session.Concept.Concept.EntityType at 0x10ae06278>]"
      ]
     },
     "execution_count": 18,
     "metadata": {},
     "output_type": "execute_result"
    }
   ],
   "source": [
    "remaining_people"
   ]
  }
 ],
 "metadata": {
  "kernelspec": {
   "display_name": "Python 3",
   "language": "python",
   "name": "python3"
  },
  "language_info": {
   "codemirror_mode": {
    "name": "ipython",
    "version": 3
   },
   "file_extension": ".py",
   "mimetype": "text/x-python",
   "name": "python",
   "nbconvert_exporter": "python",
   "pygments_lexer": "ipython3",
   "version": "3.6.3"
  }
 },
 "nbformat": 4,
 "nbformat_minor": 2
}
