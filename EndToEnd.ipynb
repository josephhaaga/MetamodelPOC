{
 "cells": [
  {
   "cell_type": "code",
   "execution_count": 1,
   "metadata": {
    "collapsed": true
   },
   "outputs": [],
   "source": [
    "# ! pip install findspark\n",
    "\n",
    "# !pip install graphframes\n",
    "# https://towardsdatascience.com/graphframes-in-jupyter-a-practical-guide-9b3b346cebc5\n",
    "\n",
    "# imports and libraries\n",
    "import findspark\n",
    "findspark.init()\n",
    "\n",
    "from pyspark import SparkContext, SparkConf\n",
    "from pyspark.sql import SparkSession, SQLContext, DataFrame\n",
    "from pyspark.conf import SparkConf\n",
    "\n",
    "# Spark runtime boilerplate\n",
    "\n",
    "sc = SparkContext.getOrCreate(SparkConf().setMaster(\"local[*]\"))\n",
    "sqlC = SQLContext(sc)\n",
    "sc.addPyFile(\"/Users/josephhaaga/.ivy2/jars/graphframes_graphframes-0.6.0-spark2.3-s_2.11.jar\")"
   ]
  },
  {
   "cell_type": "markdown",
   "metadata": {},
   "source": [
    "## 1. Preexisting GraphFrame g"
   ]
  },
  {
   "cell_type": "code",
   "execution_count": 2,
   "metadata": {
    "collapsed": true
   },
   "outputs": [],
   "source": [
    "edges = sqlC.read.format(\"csv\") \\\n",
    "    .option(\"header\", \"true\") \\\n",
    "    .option(\"inferSchema\", \"true\") \\\n",
    "    .load(\"./data/peopleAndCompanies_edges.csv\") \n",
    "    \n",
    "vertices = sqlC.read.format(\"csv\") \\\n",
    "    .option(\"header\", \"true\") \\\n",
    "    .option(\"inferSchema\", \"true\") \\\n",
    "    .load(\"./data/peopleAndCompanies_vertices.csv\")\n",
    "    "
   ]
  },
  {
   "cell_type": "code",
   "execution_count": 3,
   "metadata": {
    "collapsed": true
   },
   "outputs": [],
   "source": [
    "from graphframes import *\n",
    "# https://stackoverflow.com/a/50404308\n",
    "g = GraphFrame(vertices, edges)\n",
    "\n",
    "from pyspark.sql.functions import lit"
   ]
  },
  {
   "cell_type": "code",
   "execution_count": 4,
   "metadata": {
    "collapsed": true
   },
   "outputs": [],
   "source": [
    "motifs = g.find(\"(a)-[e]->(b); (c)-[e2]->(b)\")\n",
    "\n",
    "results = motifs.filter(\"a.type == 'person'\") \\\n",
    "    .filter(\"c.type == 'person'\") \\\n",
    "    .filter(\"b.type == 'company'\") \\\n",
    "    .filter(\"e.relationship == 'employed_by'\") \\\n",
    "    .filter(\"e2.relationship == 'employed_by'\")"
   ]
  },
  {
   "cell_type": "code",
   "execution_count": 5,
   "metadata": {
    "collapsed": true
   },
   "outputs": [],
   "source": [
    "src_dst = results.select(\"a.id\",\"c.id\")"
   ]
  },
  {
   "cell_type": "code",
   "execution_count": 6,
   "metadata": {
    "collapsed": true
   },
   "outputs": [],
   "source": [
    "newEdges = src_dst.withColumn(\"relationship\", lit(\"works_with\"))"
   ]
  },
  {
   "cell_type": "code",
   "execution_count": 7,
   "metadata": {
    "collapsed": true
   },
   "outputs": [],
   "source": [
    "totalE = g.edges.union(newEdges)"
   ]
  },
  {
   "cell_type": "code",
   "execution_count": 8,
   "metadata": {},
   "outputs": [
    {
     "data": {
      "text/plain": [
       "707"
      ]
     },
     "execution_count": 8,
     "metadata": {},
     "output_type": "execute_result"
    }
   ],
   "source": [
    "totalE.count()"
   ]
  },
  {
   "cell_type": "code",
   "execution_count": 9,
   "metadata": {
    "collapsed": true
   },
   "outputs": [],
   "source": [
    "# src_dst = results.select(\"a.id\",\"c.id\")\n",
    "# newEdges = src_dst.withColumn(\"relationship\", lit(\"works_with\"))\n",
    "# totalE = g.edges.union(newEdges)\n",
    "# totalE.count()"
   ]
  },
  {
   "cell_type": "markdown",
   "metadata": {},
   "source": [
    "## 2. Get triplets from g"
   ]
  },
  {
   "cell_type": "code",
   "execution_count": 10,
   "metadata": {},
   "outputs": [],
   "source": [
    "def describeMetamodel(g):\n",
    "    \"\"\"\n",
    "    Generate Graql insert statements to create a metamodel representation of GraphFrame g.\n",
    "    \"\"\"\n",
    "    # Vertices\n",
    "    vertexTypes = g.vertices.select(\"type\").distinct().rdd.flatMap(lambda x: x).collect()\n",
    "    createVertices = ['$'+v+' isa graphVertex has name \"'+v+'\";' \\\n",
    "     for v in vertexTypes]\n",
    "\n",
    "    # Edges\n",
    "    edgeTypes = g.edges.select(\"relationship\").distinct().rdd.flatMap(lambda x: x).collect()\n",
    "    createEdges = ['$'+e+' isa graphEdge has name \"'+e+'\";' \\\n",
    "     for e in edgeTypes]\n",
    "\n",
    "    s = g.edges\n",
    "\n",
    "    # Triples\n",
    "    tripleTypes = s.join(vertices, s.src == vertices.id) \\\n",
    "        .select([\"src\",\"type\",\"dst\",\"relationship\"]) \\\n",
    "        .withColumnRenamed('type','src_type') \\\n",
    "        .join(vertices, s.dst == vertices.id) \\\n",
    "        .select([\"src\",\"src_type\",\"dst\",\"type\",\"relationship\"]) \\\n",
    "        .withColumnRenamed('type', 'dst_type') \\\n",
    "        .select(['src_type', 'relationship', 'dst_type']) \\\n",
    "        .distinct() \\\n",
    "        .collect()\n",
    "    tripleTypes = [a.asDict() for a in tripleTypes]\n",
    "    createTriplets = [ \\\n",
    "        \"\"\"${0} isa graphTriplet has name \"{1}\";\n",
    "        (src-vertex-owned: ${2}, dst-vertex-owned: ${3}, edge-owned: ${4}, object-owner: ${0}) isa has-graphobjects;\n",
    "        \"\"\".format( \\\n",
    "                a['src_type']+\"_\"+a['relationship']+\"_\"+a['dst_type'], \\\n",
    "                a['src_type']+\" \"+a['relationship']+\" \"+a['dst_type'], \\\n",
    "                a['src_type'], \\\n",
    "                a['dst_type'], \\\n",
    "                a['relationship'] \\\n",
    "            ).replace(\"\\n\",\"\").replace(\"\\t\", ' ')\n",
    "        for a in tripleTypes \\\n",
    "    ]\n",
    "\n",
    "    verts = \" \".join(createVertices)\n",
    "    edges = \" \".join(createEdges)\n",
    "    trips = \" \".join(createTriplets)\n",
    "    return (verts + ' ' + edges + \" \" + trips)"
   ]
  },
  {
   "cell_type": "code",
   "execution_count": 11,
   "metadata": {},
   "outputs": [],
   "source": [
    "metamodelCreateStatements = describeMetamodel(g)\n",
    "metamodelCreateStatements = metamodelCreateStatements[:metamodelCreateStatements.rindex(\";\")]"
   ]
  },
  {
   "cell_type": "code",
   "execution_count": 12,
   "metadata": {
    "scrolled": true
   },
   "outputs": [],
   "source": [
    "#!pip install primal-grakn"
   ]
  },
  {
   "cell_type": "markdown",
   "metadata": {},
   "source": [
    "## 3. Create metamodel"
   ]
  },
  {
   "cell_type": "code",
   "execution_count": 15,
   "metadata": {
    "scrolled": true
   },
   "outputs": [],
   "source": [
    "import primal_grakn as grakn\n",
    "with grakn.Graph(uri='localhost:48555', keyspace='grakn') as graph:\n",
    "    graph.match_or_insert(metamodelCreateStatements)\n",
    "    graph.commit()"
   ]
  },
  {
   "cell_type": "markdown",
   "metadata": {},
   "source": [
    "## Query metamodel for possible parameters\n",
    "Now we can provide the user with a OneHop operation, using the parameter options described by the Grakn metamodel.\n"
   ]
  },
  {
   "cell_type": "code",
   "execution_count": 16,
   "metadata": {},
   "outputs": [],
   "source": [
    "with grakn.Graph(uri='localhost:48555', keyspace='grakn') as graph:\n",
    "    concept_map = graph.execute('match $a isa has-graphobjects; get;')    \n",
    "    graph.commit()"
   ]
  },
  {
   "cell_type": "code",
   "execution_count": 17,
   "metadata": {},
   "outputs": [
    {
     "data": {
      "text/plain": [
       "3"
      ]
     },
     "execution_count": 17,
     "metadata": {},
     "output_type": "execute_result"
    }
   ],
   "source": [
    "len(concept_map)"
   ]
  },
  {
   "cell_type": "code",
   "execution_count": 18,
   "metadata": {
    "collapsed": true
   },
   "outputs": [
    {
     "data": {
      "text/plain": [
       "{'base_type': 'relationship',\n",
       " 'dst-vertex-owned': {'base_type': 'entity',\n",
       "  'id': 'V8312',\n",
       "  'name': {'value': 'company'},\n",
       "  'type': 'graphVertex'},\n",
       " 'edge-owned': {'base_type': 'entity',\n",
       "  'id': 'V4264',\n",
       "  'name': {'value': 'employed_by'},\n",
       "  'type': 'graphEdge'},\n",
       " 'id': 'V12416',\n",
       " 'object-owner': {'base_type': 'entity',\n",
       "  'id': 'V40964104',\n",
       "  'name': {'value': 'person employed_by company'},\n",
       "  'type': 'graphTriplet'},\n",
       " 'src-vertex-owned': {'base_type': 'entity',\n",
       "  'id': 'V40964280',\n",
       "  'name': {'value': 'person'},\n",
       "  'type': 'graphVertex'},\n",
       " 'type': 'has-graphobjects'}"
      ]
     },
     "execution_count": 18,
     "metadata": {},
     "output_type": "execute_result"
    }
   ],
   "source": [
    "concept_map[1]['a']"
   ]
  },
  {
   "cell_type": "code",
   "execution_count": 19,
   "metadata": {
    "collapsed": true
   },
   "outputs": [
    {
     "data": {
      "text/plain": [
       "[{'base_type': 'entity',\n",
       "  'id': 'V40964280',\n",
       "  'name': {'value': 'person'},\n",
       "  'type': 'graphVertex'},\n",
       " {'base_type': 'entity',\n",
       "  'id': 'V40964280',\n",
       "  'name': {'value': 'person'},\n",
       "  'type': 'graphVertex'},\n",
       " {'base_type': 'entity',\n",
       "  'id': 'V8312',\n",
       "  'name': {'value': 'company'},\n",
       "  'type': 'graphVertex'}]"
      ]
     },
     "execution_count": 19,
     "metadata": {},
     "output_type": "execute_result"
    }
   ],
   "source": [
    "sources = [a['a']['src-vertex-owned'] for a in concept_map]\n",
    "sources"
   ]
  },
  {
   "cell_type": "code",
   "execution_count": null,
   "metadata": {
    "collapsed": true
   },
   "outputs": [],
   "source": []
  },
  {
   "cell_type": "markdown",
   "metadata": {},
   "source": [
    "## 4. Perform transform"
   ]
  },
  {
   "cell_type": "code",
   "execution_count": 105,
   "metadata": {},
   "outputs": [],
   "source": [
    "def OneHop(g, params):\n",
    "    \"\"\"\n",
    "    Create a 'new_edge' relationship between A and C due to shared relationship with vertex B.\n",
    "    \n",
    "    g is a GraphFrame object\n",
    "    \n",
    "    params is a dictionary where each parameter in the motif query is a key,\n",
    "    and it's value can be a specific parameter or \"None\"/omitted (wildcard)\n",
    "    \n",
    "    e.g.\n",
    "    \n",
    "    {\n",
    "        a: \"person\",\n",
    "        c: \"person\",\n",
    "        e: \"employed_by\",\n",
    "        # note how e2 is omitted\n",
    "        new_edge: \"works_with\"\n",
    "    }\n",
    "    \"\"\"\n",
    "    template = \"(a)-[e]->(b); (c)-[e2]->(b)\";\n",
    "    results = g.find(template)\n",
    "\n",
    "    if 'a' in params and params['a'] is not None:\n",
    "        results = results.filter(\"a.type == '\"+params['a']+\"'\")\n",
    "    if 'b' in params and params['b'] is not None:\n",
    "        results = results.filter(\"b.type == '\"+params['b']+\"'\")\n",
    "    if 'c' in params and params['c'] is not None:\n",
    "        results = results.filter(\"c.type == '\"+params['c']+\"'\")\n",
    "\n",
    "    if 'e' in params and params['e'] is not None:\n",
    "        results = results.filter(\"e.relationship == '\"+params['e']+\"'\")\n",
    "    if 'e2' in params and params['e2'] is not None:\n",
    "        results = results.filter(\"e2.relationship == '\"+params['e2']+\"'\")\n",
    "    \n",
    "#   Filter to ensure person does not 'works_with' themself\n",
    "    src_dst = results.select(\"a.id\",\"c.id\").filter('a.id != c.id')\n",
    "    newEdges = src_dst.withColumn(\"relationship\", lit(params['new_edge']))\n",
    "    totalE = g.edges.union(newEdges)\n",
    "#     print(str(newEdges.count())+\" '\"+params['new_edge']+\"' edges added.\")\n",
    "    print(str(totalE.filter(\"relationship == '\"+params['new_edge']+\"'\").count())+\" '\"+params['new_edge']+\"' edges added.\")\n",
    "    return GraphFrame(g.vertices, totalE)"
   ]
  },
  {
   "cell_type": "markdown",
   "metadata": {},
   "source": [
    "## 5. Genera"
   ]
  },
  {
   "cell_type": "code",
   "execution_count": 106,
   "metadata": {},
   "outputs": [
    {
     "name": "stdout",
     "output_type": "stream",
     "text": [
      "452 'works_with' edges added.\n"
     ]
    }
   ],
   "source": [
    "g2 = OneHop(g, {\"a\":\"person\", \\\n",
    "               \"b\":\"company\", \\\n",
    "               \"c\":\"person\", \\\n",
    "               \"e\":\"employed_by\", \\\n",
    "               \"e2\":\"employed_by\", \\\n",
    "               \"new_edge\":\"works_with\"})"
   ]
  },
  {
   "cell_type": "code",
   "execution_count": null,
   "metadata": {
    "collapsed": true
   },
   "outputs": [],
   "source": []
  },
  {
   "cell_type": "markdown",
   "metadata": {},
   "source": [
    "N.B. We can provide a `<select>` list of dynamically-changing options [\"guard rails\"] when we connect the frontend UI. That way, users will not be able to query for nonexistent triplets like `(Company)-[claims_dependent]-(Company)`."
   ]
  },
  {
   "cell_type": "code",
   "execution_count": null,
   "metadata": {
    "collapsed": true
   },
   "outputs": [],
   "source": []
  },
  {
   "cell_type": "markdown",
   "metadata": {},
   "source": [
    "## Sanity check\n",
    "\n",
    "Check how many employed_by relationships there are, and calculate how many works_with edges should have been added."
   ]
  },
  {
   "cell_type": "code",
   "execution_count": 107,
   "metadata": {},
   "outputs": [
    {
     "name": "stdout",
     "output_type": "stream",
     "text": [
      "98 employement relationships\n"
     ]
    }
   ],
   "source": [
    "numEmployments = g2.edges.filter(\"relationship == 'employed_by'\").count()\n",
    "print(str(numEmployments) + \" employement relationships\")"
   ]
  },
  {
   "cell_type": "code",
   "execution_count": 108,
   "metadata": {},
   "outputs": [
    {
     "name": "stdout",
     "output_type": "stream",
     "text": [
      "Largest company has 9 employees\n"
     ]
    }
   ],
   "source": [
    "a = g2.edges.filter(\"relationship == 'employed_by'\").toPandas()['dst'].value_counts()\n",
    "b = a - 1\n",
    "print(\"Largest company has \"+str(a.max()) + \" employees\")"
   ]
  },
  {
   "cell_type": "code",
   "execution_count": 109,
   "metadata": {},
   "outputs": [
    {
     "name": "stdout",
     "output_type": "stream",
     "text": [
      "Assuming # of works_with relationships between n nodes = n(n-1)...\n",
      "We expect to add 458 edges.\n"
     ]
    }
   ],
   "source": [
    "print(\"Assuming # of works_with relationships between n nodes = n(n-1)...\")\n",
    "print(\"We expect to add \"+str(sum(a*b))+\" edges.\")"
   ]
  },
  {
   "cell_type": "code",
   "execution_count": 110,
   "metadata": {},
   "outputs": [
    {
     "data": {
      "text/plain": [
       "452"
      ]
     },
     "execution_count": 110,
     "metadata": {},
     "output_type": "execute_result"
    }
   ],
   "source": [
    "g2.edges.filter(\"relationship == 'works_with'\").count()"
   ]
  },
  {
   "cell_type": "code",
   "execution_count": null,
   "metadata": {
    "collapsed": true
   },
   "outputs": [],
   "source": []
  }
 ],
 "metadata": {
  "kernelspec": {
   "display_name": "Python 3",
   "language": "python",
   "name": "python3"
  },
  "language_info": {
   "codemirror_mode": {
    "name": "ipython",
    "version": 3
   },
   "file_extension": ".py",
   "mimetype": "text/x-python",
   "name": "python",
   "nbconvert_exporter": "python",
   "pygments_lexer": "ipython3",
   "version": "3.6.3"
  }
 },
 "nbformat": 4,
 "nbformat_minor": 2
}
