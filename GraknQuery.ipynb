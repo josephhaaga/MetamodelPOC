{
 "cells": [
  {
   "cell_type": "code",
   "execution_count": 6,
   "metadata": {},
   "outputs": [],
   "source": [
    "import sys\n",
    "sys.path.append('/home/paperspace/pygrakn/')\n",
    "#see https://github.com/cyclecycle/primal-grakn\n"
   ]
  },
  {
   "cell_type": "code",
   "execution_count": 8,
   "metadata": {},
   "outputs": [],
   "source": [
    "import primal_grakn as grakn"
   ]
  },
  {
   "cell_type": "code",
   "execution_count": 12,
   "metadata": {},
   "outputs": [
    {
     "name": "stdout",
     "output_type": "stream",
     "text": [
      "[{'x': {'id': 'V82008', 'type': 'pipelineStep', 'base_type': 'entity', 'version': {'value': 3}, 'dateModified': {'value': datetime.datetime(2018, 11, 8, 19, 0)}, 'typ': {'value': 'DataFrame=>graphTriplet'}}}]\n"
     ]
    }
   ],
   "source": [
    "with grakn.Graph(uri='localhost:48555', keyspace='ontology') as graph:\n",
    "    concept_map = graph.execute('match $x isa pipelineStep has version 3; get;')\n",
    "    print(concept_map)   \n",
    "    graph.commit()  # Don't forget to commit changes if you make them. N.B. this also closes the session"
   ]
  },
  {
   "cell_type": "markdown",
   "metadata": {},
   "source": [
    "Get output of pipelineStep"
   ]
  },
  {
   "cell_type": "code",
   "execution_count": 13,
   "metadata": {},
   "outputs": [],
   "source": [
    "query = \"match  $x isa pipelineStep has version 3; (pipeline-owner:$x, pipeline-output:$own) ; (property-owner: $own, property-owned:$owned, defined-in: $x); $own has name $n; $owned has name $n1; $x has version $v; get;\""
   ]
  },
  {
   "cell_type": "code",
   "execution_count": 14,
   "metadata": {},
   "outputs": [
    {
     "name": "stdout",
     "output_type": "stream",
     "text": [
      "[{'owned': {'id': 'V98528', 'type': 'graphVertex', 'base_type': 'entity', 'name': {'value': 'ITIN'}}, 'v': {'id': 'V69704', 'type': 'version', 'base_type': 'attribute', 'value': 3}, 'n1': {'id': 'V65536', 'type': 'name', 'base_type': 'attribute', 'value': 'ITIN'}, 'own': {'id': 'V102624', 'type': 'graphTriplet', 'base_type': 'entity', 'name': {'value': 'EIN_to_ITIN'}}, 'x': {'id': 'V82008', 'type': 'pipelineStep', 'base_type': 'entity', 'version': {'value': 3}, 'dateModified': {'value': datetime.datetime(2018, 11, 8, 19, 0)}, 'typ': {'value': 'DataFrame=>graphTriplet'}}, 'n': {'id': 'V143576', 'type': 'name', 'base_type': 'attribute', 'value': 'EIN_to_ITIN'}}, {'owned': {'id': 'V131288', 'type': 'graphVertex', 'base_type': 'entity', 'name': {'value': 'EIN'}}, 'v': {'id': 'V69704', 'type': 'version', 'base_type': 'attribute', 'value': 3}, 'n1': {'id': 'V90168', 'type': 'name', 'base_type': 'attribute', 'value': 'EIN'}, 'x': {'id': 'V82008', 'type': 'pipelineStep', 'base_type': 'entity', 'version': {'value': 3}, 'dateModified': {'value': datetime.datetime(2018, 11, 8, 19, 0)}, 'typ': {'value': 'DataFrame=>graphTriplet'}}, 'own': {'id': 'V102624', 'type': 'graphTriplet', 'base_type': 'entity', 'name': {'value': 'EIN_to_ITIN'}}, 'n': {'id': 'V143576', 'type': 'name', 'base_type': 'attribute', 'value': 'EIN_to_ITIN'}}]\n"
     ]
    }
   ],
   "source": [
    "with grakn.Graph(uri='localhost:48555', keyspace='ontology') as graph:\n",
    "    concept_map = graph.execute(query)\n",
    "    print(concept_map)   \n",
    "    graph.commit()  # Don't forget to commit changes if you make them. N.B. this also closes the session"
   ]
  },
  {
   "cell_type": "code",
   "execution_count": null,
   "metadata": {},
   "outputs": [],
   "source": []
  }
 ],
 "metadata": {
  "kernelspec": {
   "display_name": "Python 3",
   "language": "python",
   "name": "python3"
  },
  "language_info": {
   "codemirror_mode": {
    "name": "ipython",
    "version": 3
   },
   "file_extension": ".py",
   "mimetype": "text/x-python",
   "name": "python",
   "nbconvert_exporter": "python",
   "pygments_lexer": "ipython3",
   "version": "3.6.5"
  }
 },
 "nbformat": 4,
 "nbformat_minor": 2
}
