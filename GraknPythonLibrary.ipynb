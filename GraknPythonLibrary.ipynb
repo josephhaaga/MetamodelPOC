{
 "cells": [
  {
   "cell_type": "code",
   "execution_count": 1,
   "metadata": {
    "collapsed": true
   },
   "outputs": [],
   "source": [
    "import grakn"
   ]
  },
  {
   "cell_type": "code",
   "execution_count": 32,
   "metadata": {},
   "outputs": [
    {
     "name": "stdout",
     "output_type": "stream",
     "text": [
      "<grakn.service.Session.Concept.Concept.Type object at 0x10ae4c898>\n",
      "\n"
     ]
    }
   ],
   "source": [
    "client = grakn.Grakn(uri=\"localhost:48555\")\n",
    "with client.session(keyspace=\"grakn\") as session:\n",
    "    with session.transaction(grakn.TxType.READ) as tx:\n",
    "        # Perform a query that returns an iterator of ConceptMap answers\n",
    "        answer_iterator = tx.query(\"match $x sub thing; limit 10; get;\")\n",
    "        # Request first response\n",
    "        a_concept_map_answer = next(answer_iterator)\n",
    "        # Get the dictionary of variables : concepts, retrieve variable 'x'\n",
    "        thing = a_concept_map_answer.map()['x']\n",
    "\n",
    "        print(thing)\n",
    "        print()\n",
    "        a = thing.attributes().collect_concepts()\n",
    "        \n",
    "        # we can also iterate using a `for` loop\n",
    "        some_things = []\n",
    "        for concept_map in answer_iterator:\n",
    "            # Get 'x' again, without going through .map()\n",
    "            some_things.append(concept_map.get('x'))\n",
    "            break\n",
    "\n",
    "        # skip the iteration and .get('x') and extract all the concepts in one go\n",
    "        remaining_things = answer_iterator.collect_concepts()"
   ]
  },
  {
   "cell_type": "code",
   "execution_count": 33,
   "metadata": {},
   "outputs": [
    {
     "data": {
      "text/plain": [
       "'V4248'"
      ]
     },
     "execution_count": 33,
     "metadata": {},
     "output_type": "execute_result"
    }
   ],
   "source": [
    "thing.id"
   ]
  },
  {
   "cell_type": "code",
   "execution_count": 35,
   "metadata": {},
   "outputs": [
    {
     "data": {
      "text/plain": [
       "[]"
      ]
     },
     "execution_count": 35,
     "metadata": {},
     "output_type": "execute_result"
    }
   ],
   "source": [
    "a"
   ]
  },
  {
   "cell_type": "code",
   "execution_count": 39,
   "metadata": {},
   "outputs": [
    {
     "ename": "GraknError",
     "evalue": "This connection is closed",
     "output_type": "error",
     "traceback": [
      "\u001b[0;31m---------------------------------------------------------------------------\u001b[0m",
      "\u001b[0;31mGraknError\u001b[0m                                Traceback (most recent call last)",
      "\u001b[0;32m<ipython-input-39-d90d2216a5e7>\u001b[0m in \u001b[0;36m<module>\u001b[0;34m()\u001b[0m\n\u001b[0;32m----> 1\u001b[0;31m \u001b[0mthing\u001b[0m\u001b[0;34m.\u001b[0m\u001b[0mlabel\u001b[0m\u001b[0;34m(\u001b[0m\u001b[0;34m)\u001b[0m\u001b[0;34m\u001b[0m\u001b[0m\n\u001b[0m",
      "\u001b[0;32m/anaconda3/lib/python3.6/site-packages/grakn/service/Session/Concept/Concept.py\u001b[0m in \u001b[0;36mlabel\u001b[0;34m(self, value)\u001b[0m\n\u001b[1;32m     95\u001b[0m         \u001b[0;32mif\u001b[0m \u001b[0mvalue\u001b[0m \u001b[0;32mis\u001b[0m \u001b[0;32mNone\u001b[0m\u001b[0;34m:\u001b[0m\u001b[0;34m\u001b[0m\u001b[0m\n\u001b[1;32m     96\u001b[0m             \u001b[0mget_label_req\u001b[0m \u001b[0;34m=\u001b[0m \u001b[0mRequestBuilder\u001b[0m\u001b[0;34m.\u001b[0m\u001b[0mConceptMethod\u001b[0m\u001b[0;34m.\u001b[0m\u001b[0mSchemaConcept\u001b[0m\u001b[0;34m.\u001b[0m\u001b[0mget_label\u001b[0m\u001b[0;34m(\u001b[0m\u001b[0;34m)\u001b[0m\u001b[0;34m\u001b[0m\u001b[0m\n\u001b[0;32m---> 97\u001b[0;31m             \u001b[0mmethod_response\u001b[0m \u001b[0;34m=\u001b[0m \u001b[0mself\u001b[0m\u001b[0;34m.\u001b[0m\u001b[0m_tx_service\u001b[0m\u001b[0;34m.\u001b[0m\u001b[0mrun_concept_method\u001b[0m\u001b[0;34m(\u001b[0m\u001b[0mself\u001b[0m\u001b[0;34m.\u001b[0m\u001b[0mid\u001b[0m\u001b[0;34m,\u001b[0m \u001b[0mget_label_req\u001b[0m\u001b[0;34m)\u001b[0m\u001b[0;34m\u001b[0m\u001b[0m\n\u001b[0m\u001b[1;32m     98\u001b[0m             \u001b[0;32mreturn\u001b[0m \u001b[0mmethod_response\u001b[0m\u001b[0;34m.\u001b[0m\u001b[0mschemaConcept_getLabel_res\u001b[0m\u001b[0;34m.\u001b[0m\u001b[0mlabel\u001b[0m\u001b[0;34m\u001b[0m\u001b[0m\n\u001b[1;32m     99\u001b[0m         \u001b[0;32melse\u001b[0m\u001b[0;34m:\u001b[0m\u001b[0;34m\u001b[0m\u001b[0m\n",
      "\u001b[0;32m/anaconda3/lib/python3.6/site-packages/grakn/service/Session/TransactionService.py\u001b[0m in \u001b[0;36mrun_concept_method\u001b[0;34m(self, concept_id, grpc_concept_method_req)\u001b[0m\n\u001b[1;32m    105\u001b[0m         \u001b[0;31m# wrap method_req into a transaction message\u001b[0m\u001b[0;34m\u001b[0m\u001b[0;34m\u001b[0m\u001b[0m\n\u001b[1;32m    106\u001b[0m         \u001b[0mtx_request\u001b[0m \u001b[0;34m=\u001b[0m \u001b[0mRequestBuilder\u001b[0m\u001b[0;34m.\u001b[0m\u001b[0mconcept_method_req_to_tx_req\u001b[0m\u001b[0;34m(\u001b[0m\u001b[0mconcept_id\u001b[0m\u001b[0;34m,\u001b[0m \u001b[0mgrpc_concept_method_req\u001b[0m\u001b[0;34m)\u001b[0m\u001b[0;34m\u001b[0m\u001b[0m\n\u001b[0;32m--> 107\u001b[0;31m         \u001b[0mresponse\u001b[0m \u001b[0;34m=\u001b[0m \u001b[0mself\u001b[0m\u001b[0;34m.\u001b[0m\u001b[0m_communicator\u001b[0m\u001b[0;34m.\u001b[0m\u001b[0msend\u001b[0m\u001b[0;34m(\u001b[0m\u001b[0mtx_request\u001b[0m\u001b[0;34m)\u001b[0m\u001b[0;34m\u001b[0m\u001b[0m\n\u001b[0m\u001b[1;32m    108\u001b[0m         \u001b[0;32mreturn\u001b[0m \u001b[0mresponse\u001b[0m\u001b[0;34m.\u001b[0m\u001b[0mconceptMethod_res\u001b[0m\u001b[0;34m.\u001b[0m\u001b[0mresponse\u001b[0m\u001b[0;34m\u001b[0m\u001b[0m\n\u001b[1;32m    109\u001b[0m \u001b[0;34m\u001b[0m\u001b[0m\n",
      "\u001b[0;32m/anaconda3/lib/python3.6/site-packages/grakn/service/Session/TransactionService.py\u001b[0m in \u001b[0;36msend\u001b[0;34m(self, request)\u001b[0m\n\u001b[1;32m    140\u001b[0m         \u001b[0;32mif\u001b[0m \u001b[0mself\u001b[0m\u001b[0;34m.\u001b[0m\u001b[0m_closed\u001b[0m\u001b[0;34m:\u001b[0m\u001b[0;34m\u001b[0m\u001b[0m\n\u001b[1;32m    141\u001b[0m             \u001b[0;31m# TODO integrate this into TransactionService to throw a \"Transaction is closed\" rather than \"connection is closed...\"\u001b[0m\u001b[0;34m\u001b[0m\u001b[0;34m\u001b[0m\u001b[0m\n\u001b[0;32m--> 142\u001b[0;31m             \u001b[0;32mraise\u001b[0m \u001b[0mGraknError\u001b[0m\u001b[0;34m(\u001b[0m\u001b[0;34m\"This connection is closed\"\u001b[0m\u001b[0;34m)\u001b[0m\u001b[0;34m\u001b[0m\u001b[0m\n\u001b[0m\u001b[1;32m    143\u001b[0m         \u001b[0;32mtry\u001b[0m\u001b[0;34m:\u001b[0m\u001b[0;34m\u001b[0m\u001b[0m\n\u001b[1;32m    144\u001b[0m             \u001b[0mself\u001b[0m\u001b[0;34m.\u001b[0m\u001b[0m_add_request\u001b[0m\u001b[0;34m(\u001b[0m\u001b[0mrequest\u001b[0m\u001b[0;34m)\u001b[0m\u001b[0;34m\u001b[0m\u001b[0m\n",
      "\u001b[0;31mGraknError\u001b[0m: This connection is closed"
     ]
    }
   ],
   "source": [
    "thing.label()"
   ]
  }
 ],
 "metadata": {
  "kernelspec": {
   "display_name": "Python 3",
   "language": "python",
   "name": "python3"
  },
  "language_info": {
   "codemirror_mode": {
    "name": "ipython",
    "version": 3
   },
   "file_extension": ".py",
   "mimetype": "text/x-python",
   "name": "python",
   "nbconvert_exporter": "python",
   "pygments_lexer": "ipython3",
   "version": "3.6.3"
  }
 },
 "nbformat": 4,
 "nbformat_minor": 2
}
